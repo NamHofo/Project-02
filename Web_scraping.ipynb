{
  "cells": [
    {
      "cell_type": "markdown",
      "metadata": {
        "colab_type": "text",
        "id": "view-in-github"
      },
      "source": [
        "<a href=\"https://colab.research.google.com/github/NamHofo/Project-02/blob/main/Web_scraping.ipynb\" target=\"_parent\"><img src=\"https://colab.research.google.com/assets/colab-badge.svg\" alt=\"Open In Colab\"/></a>"
      ]
    },
    {
      "cell_type": "code",
      "execution_count": 20,
      "metadata": {
        "id": "12EKKybThMMf"
      },
      "outputs": [],
      "source": [
        "import aiohttp\n",
        "import aiofiles\n",
        "import asyncio\n",
        "import json\n",
        "import re\n",
        "from tqdm import tqdm\n",
        "import pandas as pd\n",
        "import random\n"
      ]
    },
    {
      "cell_type": "code",
      "execution_count": 21,
      "metadata": {
        "id": "7JC8363KhPtw"
      },
      "outputs": [],
      "source": [
        "\n",
        "# API endpoint\n",
        "API_URL = \"https://api.tiki.vn/product-detail/api/v1/products/{}\"\n",
        "\n",
        "# Số lượng sản phẩm mỗi file\n",
        "BATCH_SIZE = 1000\n",
        "\n",
        "# Chuẩn hóa nội dung description (loại bỏ HTML)\n",
        "def clean_description(text):\n",
        "    if not text:\n",
        "        return \"\"\n",
        "    text = re.sub(r'<[^>]+>', '', text)  # Xoá thẻ HTML\n",
        "    text = re.sub(r'\\s+', ' ', text).strip()  # Xóa khoảng trắng thừa\n",
        "    return text\n",
        "\n",
        "async def fetch_product(session, product_id, max_retries=3):\n",
        "    url = API_URL.format(product_id)\n",
        "    retries = 0\n",
        "    while retries < max_retries:\n",
        "        try:\n",
        "            async with session.get(url) as response:\n",
        "                if response.status == 200:\n",
        "                    data = await response.json()\n",
        "                    return {\n",
        "                        \"id\": data.get(\"id\"),\n",
        "                        \"name\": data.get(\"name\"),\n",
        "                        \"url_key\": data.get(\"url_key\"),\n",
        "                        \"price\": data.get(\"price\"),\n",
        "                        \"description\": clean_description(data.get(\"description\")),\n",
        "                        \"images_url\": [img.get(\"base_url\") for img in data.get(\"images\", []) if \"base_url\" in img]\n",
        "                    }\n",
        "                elif response.status == 429:\n",
        "                    retry_after = int(response.headers.get('Retry-After', random.randint(3, 10)))\n",
        "                    print(f\"Rate limit hit. Retrying after {retry_after} seconds...\")\n",
        "                    await asyncio.sleep(retry_after)\n",
        "                    retries += 1\n",
        "                else:\n",
        "                    return {\"id\": product_id, \"error\": f\"API returned status {response.status}\"}\n",
        "        except Exception as e:\n",
        "            return {\"id\": product_id, \"error\": str(e)}\n",
        "    return {\"id\": product_id, \"error\": \"Max retries exceeded\"}\n",
        "\n",
        "\n",
        "# Hàm xử lý lấy dữ liệu theo batch\n",
        "async def fetch_all_products(product_ids):\n",
        "    tasks = []\n",
        "    failed_products = []  # Danh sách các sản phẩm lỗi\n",
        "    semaphore = asyncio.Semaphore(50)\n",
        "    async with aiohttp.ClientSession() as session:\n",
        "        async def bound_fetch(product_id):\n",
        "            async with semaphore:  # Hạn chế số lượng request đồng thời\n",
        "                return await fetch_product(session, product_id)\n",
        "\n",
        "        tasks = [bound_fetch(pid) for pid in product_ids]\n",
        "        results = await asyncio.gather(*tasks)\n",
        "\n",
        "    # Lọc sản phẩm hợp lệ và sản phẩm có lỗi\n",
        "    successful_products = []\n",
        "    for result in results:\n",
        "        if isinstance(result, dict) and 'error' in result:  # Nếu có lỗi\n",
        "            failed_products.append(result)  # Lưu sản phẩm có lỗi và lý do\n",
        "        else:\n",
        "            successful_products.append(result)  # Lưu sản phẩm hợp lệ\n",
        "\n",
        "    return successful_products, failed_products\n",
        "\n",
        "\n",
        "\n",
        "\n",
        "# Hàm chia nhỏ danh sách thành từng batch\n",
        "def split_list(lst, batch_size):\n",
        "    for i in range(0, len(lst), batch_size):\n",
        "        yield lst[i:i + batch_size]\n",
        "\n",
        "# Hàm lưu dữ liệu vào file JSON\n",
        "async def save_to_json(data, file_index):\n",
        "    filename = f\"products_{file_index}.json\"\n",
        "    async with aiofiles.open(filename, \"w\", encoding=\"utf-8\") as f:\n",
        "        await f.write(json.dumps(data, indent=4, ensure_ascii=False))\n",
        "    print(f\"Đã lưu: {filename}\")\n",
        "\n",
        "# Chạy toàn bộ quy trình\n",
        "async def main():\n",
        "    # 1. Đọc danh sách product_id từ file Excel\n",
        "    df = pd.read_excel(\"products-0-200000.xlsx\", engine=\"openpyxl\")\n",
        "\n",
        "    # 2. Lấy cột chứa product_id\n",
        "    product_ids = df.iloc[:, 0].astype(str).tolist()\n",
        "\n",
        "    # 3. Chỉ lấy 10 sản phẩm đầu tiên để test\n",
        "    product_ids = product_ids[:500]\n",
        "\n",
        "    print(f\"Total products (for testing): {len(product_ids)}\")\n",
        "\n",
        "    # 4. Chia thành từng batch\n",
        "    batches = list(split_list(product_ids, BATCH_SIZE))\n",
        "\n",
        "    all_failed_products = []  # Danh sách lỗi tổng\n",
        "\n",
        "    # 5. Tải dữ liệu theo batch\n",
        "    for index, batch in enumerate(tqdm(batches, desc=\"Fetching data\")):\n",
        "        product_data, failed_products = await fetch_all_products(batch)\n",
        "\n",
        "        # Lưu các sản phẩm hợp lệ\n",
        "        await save_to_json(product_data, f\"{index+1}\")\n",
        "\n",
        "        # Lưu sản phẩm lỗi\n",
        "        all_failed_products.extend(failed_products)\n",
        "\n",
        "    # 6. Lưu danh sách lỗi vào file riêng nếu có lỗi\n",
        "    if all_failed_products:\n",
        "        await save_to_json(all_failed_products, \"errors\")\n",
        "        print(f\"⚠️ Đã lưu danh sách lỗi vào errors.json\")\n",
        "\n"
      ]
    },
    {
      "cell_type": "code",
      "execution_count": 22,
      "metadata": {
        "colab": {
          "base_uri": "https://localhost:8080/"
        },
        "id": "Sz1aaNmNjim6",
        "outputId": "2ef65aac-4538-4f80-999f-aeffaee507df"
      },
      "outputs": [
        {
          "name": "stdout",
          "output_type": "stream",
          "text": [
            "Total products (for testing): 500\n"
          ]
        },
        {
          "name": "stderr",
          "output_type": "stream",
          "text": [
            "Fetching data:   0%|          | 0/1 [00:00<?, ?it/s]"
          ]
        },
        {
          "name": "stdout",
          "output_type": "stream",
          "text": [
            "Rate limit hit. Retrying after 9 seconds...\n",
            "Rate limit hit. Retrying after 9 seconds...\n",
            "Rate limit hit. Retrying after 4 seconds...\n",
            "Rate limit hit. Retrying after 10 seconds...\n",
            "Rate limit hit. Retrying after 3 seconds...\n",
            "Rate limit hit. Retrying after 9 seconds...\n",
            "Rate limit hit. Retrying after 10 seconds...\n",
            "Rate limit hit. Retrying after 4 seconds...\n",
            "Rate limit hit. Retrying after 7 seconds...\n"
          ]
        },
        {
          "name": "stderr",
          "output_type": "stream",
          "text": [
            "Fetching data: 100%|██████████| 1/1 [00:16<00:00, 16.92s/it]"
          ]
        },
        {
          "name": "stdout",
          "output_type": "stream",
          "text": [
            "Đã lưu: products_1.json\n",
            "Đã lưu: products_errors.json\n",
            "⚠️ Đã lưu danh sách lỗi vào errors.json\n"
          ]
        },
        {
          "name": "stderr",
          "output_type": "stream",
          "text": [
            "\n"
          ]
        }
      ],
      "source": [
        "# Chạy chương trình\n",
        "import nest_asyncio\n",
        "nest_asyncio.apply() # Apply nest_asyncio to allow nested event loops\n",
        "\n",
        "if __name__ == \"__main__\":\n",
        "    asyncio.run(main())"
      ]
    }
  ],
  "metadata": {
    "accelerator": "GPU",
    "colab": {
      "authorship_tag": "ABX9TyNU4rvctQAamV8TJrNDSELf",
      "gpuType": "T4",
      "include_colab_link": true,
      "provenance": []
    },
    "kernelspec": {
      "display_name": "Python 3",
      "name": "python3"
    },
    "language_info": {
      "codemirror_mode": {
        "name": "ipython",
        "version": 3
      },
      "file_extension": ".py",
      "mimetype": "text/x-python",
      "name": "python",
      "nbconvert_exporter": "python",
      "pygments_lexer": "ipython3",
      "version": "3.10.12"
    }
  },
  "nbformat": 4,
  "nbformat_minor": 0
}
