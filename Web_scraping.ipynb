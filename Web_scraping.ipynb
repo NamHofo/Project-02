{
  "nbformat": 4,
  "nbformat_minor": 0,
  "metadata": {
    "colab": {
      "provenance": [],
      "gpuType": "T4",
      "authorship_tag": "ABX9TyNU4rvctQAamV8TJrNDSELf",
      "include_colab_link": true
    },
    "kernelspec": {
      "name": "python3",
      "display_name": "Python 3"
    },
    "language_info": {
      "name": "python"
    },
    "accelerator": "GPU"
  },
  "cells": [
    {
      "cell_type": "markdown",
      "metadata": {
        "id": "view-in-github",
        "colab_type": "text"
      },
      "source": [
        "<a href=\"https://colab.research.google.com/github/NamHofo/Project-02/blob/main/Web_scraping.ipynb\" target=\"_parent\"><img src=\"https://colab.research.google.com/assets/colab-badge.svg\" alt=\"Open In Colab\"/></a>"
      ]
    },
    {
      "cell_type": "code",
      "execution_count": 53,
      "metadata": {
        "id": "12EKKybThMMf"
      },
      "outputs": [],
      "source": [
        "import aiohttp\n",
        "import aiofiles\n",
        "import asyncio\n",
        "import json\n",
        "import re\n",
        "from tqdm import tqdm\n",
        "import pandas as pd\n",
        "import random\n"
      ]
    },
    {
      "cell_type": "code",
      "source": [
        "\n",
        "# API endpoint\n",
        "API_URL = \"https://api.tiki.vn/product-detail/api/v1/products/{}\"\n",
        "\n",
        "# Số lượng sản phẩm mỗi file\n",
        "BATCH_SIZE = 1000\n",
        "\n",
        "# Chuẩn hóa nội dung description (loại bỏ HTML)\n",
        "def clean_description(text):\n",
        "    if not text:\n",
        "        return \"\"\n",
        "    text = re.sub(r'<[^>]+>', '', text)  # Xoá thẻ HTML\n",
        "    text = re.sub(r'\\s+', ' ', text).strip()  # Xóa khoảng trắng thừa\n",
        "    return text\n",
        "\n",
        "# Hàm lấy dữ liệu từ API\n",
        "async def fetch_product(session, product_id):\n",
        "    url = API_URL.format(product_id)\n",
        "    try:\n",
        "        async with session.get(url) as response:\n",
        "            if response.status == 200:\n",
        "                data = await response.json()\n",
        "                return {\n",
        "                    \"id\": data.get(\"id\"),\n",
        "                    \"name\": data.get(\"name\"),\n",
        "                    \"url_key\": data.get(\"url_key\"),\n",
        "                    \"price\": data.get(\"price\"),\n",
        "                    \"description\": clean_description(data.get(\"description\")),\n",
        "                    \"images_url\": [img.get(\"base_url\") for img in data.get(\"images\", []) if \"base_url\" in img]\n",
        "                }\n",
        "            else:\n",
        "                # Trả về lý do lỗi khi API không trả về status 200\n",
        "                return {\"id\": product_id, \"error\": f\"API returned status {response.status}\"}\n",
        "    except Exception as e:\n",
        "        # Nếu có lỗi ngoài API (vd: timeout), ghi rõ lỗi\n",
        "        return {\"id\": product_id, \"error\": f\"Exception occurred: {str(e)}\"}\n",
        "\n",
        "\n",
        "# Hàm xử lý lấy dữ liệu theo batch\n",
        "async def fetch_all_products(product_ids):\n",
        "    tasks = []\n",
        "    failed_products = []  # Danh sách các sản phẩm lỗi\n",
        "\n",
        "    async with aiohttp.ClientSession() as session:\n",
        "        for product_id in product_ids:\n",
        "            tasks.append(fetch_product_with_delay(session, product_id))\n",
        "\n",
        "        results = await asyncio.gather(*tasks)\n",
        "\n",
        "    # Lọc sản phẩm hợp lệ và sản phẩm có lỗi\n",
        "    successful_products = []\n",
        "    for result in results:\n",
        "        if isinstance(result, dict) and 'error' in result:  # Nếu có lỗi\n",
        "            failed_products.append(result)  # Lưu sản phẩm có lỗi và lý do\n",
        "        else:\n",
        "            successful_products.append(result)  # Lưu sản phẩm hợp lệ\n",
        "\n",
        "    return successful_products, failed_products\n",
        "\n",
        "\n",
        "# Hàm với thời gian delay ngẫu nhiên\n",
        "async def fetch_product_with_delay(session, product_id):\n",
        "    # Thời gian delay ngẫu nhiên giữa 1 và 10 giây\n",
        "    delay = random.randint(1, 5)\n",
        "    print(f\"Delaying for {delay} seconds before fetching product {product_id}\")\n",
        "    await asyncio.sleep(delay)  # Chờ trong thời gian ngẫu nhiên\n",
        "    return await fetch_product(session, product_id)\n",
        "\n",
        "\n",
        "# Hàm chia nhỏ danh sách thành từng batch\n",
        "def split_list(lst, batch_size):\n",
        "    for i in range(0, len(lst), batch_size):\n",
        "        yield lst[i:i + batch_size]\n",
        "\n",
        "# Hàm lưu dữ liệu vào file JSON\n",
        "async def save_to_json(data, file_index):\n",
        "    filename = f\"products_{file_index}.json\"\n",
        "    async with aiofiles.open(filename, \"w\", encoding=\"utf-8\") as f:\n",
        "        await f.write(json.dumps(data, indent=4, ensure_ascii=False))\n",
        "    print(f\"Đã lưu: {filename}\")\n",
        "\n",
        "# Chạy toàn bộ quy trình\n",
        "async def main():\n",
        "    # 1. Đọc danh sách product_id từ file Excel\n",
        "    df = pd.read_excel(\"products-0-200000.xlsx\", engine=\"openpyxl\")\n",
        "\n",
        "    # 2. Lấy cột chứa product_id\n",
        "    product_ids = df.iloc[:, 0].astype(str).tolist()\n",
        "\n",
        "    # 3. Chỉ lấy 10 sản phẩm đầu tiên để test\n",
        "    product_ids = product_ids[:10]\n",
        "\n",
        "    print(f\"Total products (for testing): {len(product_ids)}\")\n",
        "\n",
        "    # 4. Chia thành từng batch\n",
        "    batches = list(split_list(product_ids, BATCH_SIZE))\n",
        "\n",
        "    all_failed_products = []  # Danh sách lỗi tổng\n",
        "\n",
        "    # 5. Tải dữ liệu theo batch\n",
        "    for index, batch in enumerate(tqdm(batches, desc=\"Fetching data\")):\n",
        "        product_data, failed_products = await fetch_all_products(batch)\n",
        "\n",
        "        # Lưu các sản phẩm hợp lệ\n",
        "        await save_to_json(product_data, f\"{index+1}\")\n",
        "\n",
        "        # Lưu sản phẩm lỗi\n",
        "        all_failed_products.extend(failed_products)\n",
        "\n",
        "    # 6. Lưu danh sách lỗi vào file riêng nếu có lỗi\n",
        "    if all_failed_products:\n",
        "        await save_to_json(all_failed_products, \"errors\")\n",
        "        print(f\"⚠️ Đã lưu danh sách lỗi vào errors.json\")\n",
        "\n"
      ],
      "metadata": {
        "id": "7JC8363KhPtw"
      },
      "execution_count": 54,
      "outputs": []
    },
    {
      "source": [
        "# Chạy chương trình\n",
        "import nest_asyncio\n",
        "nest_asyncio.apply() # Apply nest_asyncio to allow nested event loops\n",
        "\n",
        "if __name__ == \"__main__\":\n",
        "    asyncio.run(main())"
      ],
      "cell_type": "code",
      "metadata": {
        "colab": {
          "base_uri": "https://localhost:8080/"
        },
        "id": "Sz1aaNmNjim6",
        "outputId": "2ef65aac-4538-4f80-999f-aeffaee507df"
      },
      "execution_count": 55,
      "outputs": [
        {
          "output_type": "stream",
          "name": "stdout",
          "text": [
            "Total products (for testing): 10\n"
          ]
        },
        {
          "output_type": "stream",
          "name": "stderr",
          "text": [
            "\rFetching data:   0%|          | 0/1 [00:00<?, ?it/s]"
          ]
        },
        {
          "output_type": "stream",
          "name": "stdout",
          "text": [
            "Delaying for 2 seconds before fetching product 1391347\n",
            "Delaying for 4 seconds before fetching product 74897599\n",
            "Delaying for 4 seconds before fetching product 154155413\n",
            "Delaying for 4 seconds before fetching product 253117062\n",
            "Delaying for 1 seconds before fetching product 130978358\n",
            "Delaying for 4 seconds before fetching product 214009046\n",
            "Delaying for 4 seconds before fetching product 171618108\n",
            "Delaying for 2 seconds before fetching product 179970479\n",
            "Delaying for 3 seconds before fetching product 139457837\n",
            "Delaying for 4 seconds before fetching product 197334787\n"
          ]
        },
        {
          "output_type": "stream",
          "name": "stderr",
          "text": [
            "Fetching data: 100%|██████████| 1/1 [00:04<00:00,  4.35s/it]"
          ]
        },
        {
          "output_type": "stream",
          "name": "stdout",
          "text": [
            "Đã lưu: products_1.json\n"
          ]
        },
        {
          "output_type": "stream",
          "name": "stderr",
          "text": [
            "\n"
          ]
        }
      ]
    }
  ]
}